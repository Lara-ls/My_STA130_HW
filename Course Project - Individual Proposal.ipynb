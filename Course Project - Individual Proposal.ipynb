{
 "cells": [
  {
   "cell_type": "markdown",
   "id": "4677f87d",
   "metadata": {},
   "source": [
    "### Course project group member proposal\n",
    "Fatima Ghafoor"
   ]
  },
  {
   "cell_type": "markdown",
   "id": "68fe0f0c",
   "metadata": {},
   "source": [
    "# Analysis 1"
   ]
  },
  {
   "cell_type": "markdown",
   "id": "e1829496",
   "metadata": {},
   "source": [
    "#### Research question\n",
    "How does pet ownership influence the outcomes of mental health, specifically in terms of happiness?"
   ]
  },
  {
   "cell_type": "markdown",
   "id": "57f21ef3",
   "metadata": {},
   "source": [
    "#### Variables\n",
    "Variable 1: pet ownership (\"How many of the following companion animals (or pets) do you live with?\" ex. dogs, cats, etc.). I am choosing this variable as it directly relates to my research question about exploring how pet ownership influences the outcomes of mental health. In order to explore this research question, I must look at pet ownership.\n",
    "\n",
    "Variable 2: subject happiness scale (\"Some people are generally very happy. They enjoy life regardless of what is going on, getting the most out of everything. To what extent does this characterization describe you?\"). I chose this variable as I want to explore the effects of pet ownership on mental health. The way I decided to explore mental health is through the subject's happiness scale, which is where this variable comes in.\n",
    "\n",
    "Some visualizations I plan to use include:\n",
    "- box plots: two diffferent box plots, one showing the happiness of pet owners and one showing the happiness of non-pet owners.\n",
    "- histograms: two different histograms, one showing the happiness of pet owners and one showing the happiness of non-pet owners."
   ]
  },
  {
   "cell_type": "markdown",
   "id": "fc720689",
   "metadata": {},
   "source": [
    "#### Analysis\n",
    "I would bootstrap my data. I would bootstrap by first seperating my dataset into two different datasets: pet owners and non-pet owners. I would then generate numerous bootstrapped samples from these two samples. From there I would calculate the mean happiness score and build confidence intervals. I would then compare the two datasets and make an inference.\n",
    "\n",
    "My assumption while bootstrapping is that the given sample is representitive of the population."
   ]
  },
  {
   "cell_type": "markdown",
   "id": "c0de91fb",
   "metadata": {},
   "source": [
    "#### Hypothesis\n",
    "My hypothesis is that pet owners will, on average, report a higher number on their happiness scale than non-pet owners.\n",
    "\n",
    "This hypothesis is relevant in answering my research question because I am trying to explore how pet ownership influences the outcomes of mental health and my hypothesis is that pet ownership has a positive impact on mental health."
   ]
  },
  {
   "cell_type": "markdown",
   "id": "7f10f797",
   "metadata": {},
   "source": [
    "# Analysis 2"
   ]
  },
  {
   "cell_type": "markdown",
   "id": "6e687503",
   "metadata": {},
   "source": [
    "#### Research question\n",
    "How does having an encouraging social connection impact education level?"
   ]
  },
  {
   "cell_type": "markdown",
   "id": "56173916",
   "metadata": {},
   "source": [
    "#### Variables\n",
    "Variable 1: social connections, specifically someone to encourage the subject (\"I have at least one person in my life who encourages me, protects me or provides me with the information I need\"). I am choosing this variable as the social connections portion in my research question. The reason I chose someone who encourages the subject in specific is because I believe it will have a greater impact on level of education.\n",
    "\n",
    "\n",
    "Variable 2: education level (\"Have you received any of the following degrees or certifications? (Check all that apply)\"). I chose this variable as the way to represent level of education as it related to social connections. \n",
    "\n",
    "Some visualizations I plan to include:\n",
    "- bar graph: show the average education level for how strongly an individual agrees with having someone to encourage them. \n",
    "- box plot: show the distribution of education levels across different rankings of how strongly the individual agrees with having someone to encourage them."
   ]
  },
  {
   "cell_type": "markdown",
   "id": "351fad2b",
   "metadata": {},
   "source": [
    "#### Analysis\n",
    "For this analysis, I would conduct linear regression, using a numeric scale for the level of education. I would do this by first ensuring I have a numeric scale for the level of education, as well as numeric scale for the subject's level of agreement with the question mentioned in variable 1. I would then create a model and find the correlation. From this I would make an inference on the data.\n",
    "\n",
    "Relationship found will be linear, independence of variables, and normal distribution."
   ]
  },
  {
   "cell_type": "markdown",
   "id": "d59c9806",
   "metadata": {},
   "source": [
    "#### Hypothesis\n",
    "My hypothesis is that the higher the rating the subject puts down of how much they agree with having someone in their life who encourages them, the more likely, on average, the individual is to have a higher level of education.\n",
    "\n",
    "This hypothesis is relevant in answering my research question because I am trying to explore how social connections impact education level. My hypothesis is that the greater the social connection I have chosen for this analysis, the higher level of education."
   ]
  },
  {
   "cell_type": "markdown",
   "id": "3189aaca",
   "metadata": {},
   "source": [
    "# Analysis 3"
   ]
  },
  {
   "cell_type": "markdown",
   "id": "fc8f097a",
   "metadata": {},
   "source": [
    "#### Research question\n",
    "How does growing up with an adult who expressed pride influence an individual's own feelings of pride regarding their accomplishments?"
   ]
  },
  {
   "cell_type": "markdown",
   "id": "8122c203",
   "metadata": {},
   "source": [
    "#### Variables\n",
    "Variable 1: adult pride (\"Growing up, how often did you have an adult who - showed they were proud of me\"). I chose this variable as it directly related to my research question about growing up with an adult who expressed pride. \n",
    "\n",
    "Variable 2: accomplishment pride (\"Rate how true of you the following statements are: - I am proud of my accomplishments\"). I chose this variable as it directly relates to my research question about an individual's own feelings of pride regarding their accomplishments.\n",
    "\n",
    "Some visualization I plan to include:\n",
    "- bar graph: use to plot adult pride vs average accomplishment pride for that adult pride. \n",
    "- box plots: numerous box plots based on different levels of adult pride to compare the distribution of accomplishment pride scores."
   ]
  },
  {
   "cell_type": "markdown",
   "id": "e3852dbb",
   "metadata": {},
   "source": [
    "#### Analysis\n",
    "I plan to perform bootstrapping. I would do this by first seperating my dataset into the different levels of adult pride. I would then resample these different sections of data many times. For each sample, I will calculate the mean for an individual's own feelings of price regarding their accomplishments as well as create a confidence interval. I would then compare the different bootstrapped samples and make an inference on my data. \n",
    "\n",
    "My assumption is that the sample is representitive of the population."
   ]
  },
  {
   "cell_type": "markdown",
   "id": "762a210d",
   "metadata": {},
   "source": [
    "#### Hypothesis\n",
    "My hypothesis is that those who grew up with an adult who expressed pride are more likely to have greater feelings of pride regarding their accomplishments. \n",
    "\n",
    "My hypothesis is relevant to my research question because I am trying to explore how adult pride effects individual pride regarding accomplishments. My hypothesis states the the greater the adult pride, the greater the individual pride regarding accomplishments."
   ]
  }
 ],
 "metadata": {
  "kernelspec": {
   "display_name": "Python 3 (ipykernel)",
   "language": "python",
   "name": "python3"
  },
  "language_info": {
   "codemirror_mode": {
    "name": "ipython",
    "version": 3
   },
   "file_extension": ".py",
   "mimetype": "text/x-python",
   "name": "python",
   "nbconvert_exporter": "python",
   "pygments_lexer": "ipython3",
   "version": "3.11.6"
  }
 },
 "nbformat": 4,
 "nbformat_minor": 5
}
